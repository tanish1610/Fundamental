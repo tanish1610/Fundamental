{
  "nbformat": 4,
  "nbformat_minor": 0,
  "metadata": {
    "colab": {
      "provenance": [],
      "toc_visible": true,
      "gpuType": "T4",
      "authorship_tag": "ABX9TyOfmC2WJB8zwgcfDI23aN2v",
      "include_colab_link": true
    },
    "kernelspec": {
      "name": "python3",
      "display_name": "Python 3"
    },
    "language_info": {
      "name": "python"
    },
    "accelerator": "GPU"
  },
  "cells": [
    {
      "cell_type": "markdown",
      "metadata": {
        "id": "view-in-github",
        "colab_type": "text"
      },
      "source": [
        "<a href=\"https://colab.research.google.com/github/tanish1610/Fundamental/blob/main/Project1.ipynb\" target=\"_parent\"><img src=\"https://colab.research.google.com/assets/colab-badge.svg\" alt=\"Open In Colab\"/></a>"
      ]
    },
    {
      "cell_type": "markdown",
      "source": [
        "Hand Written Digital Prediction - Classification Analysis"
      ],
      "metadata": {
        "id": "2y-8HwUvTART"
      }
    },
    {
      "cell_type": "markdown",
      "source": [
        "# Import Library"
      ],
      "metadata": {
        "id": "6UAdlHZGTqGi"
      }
    },
    {
      "cell_type": "code",
      "source": [
        "import pandas as pd"
      ],
      "metadata": {
        "id": "ghrolldHTuR5"
      },
      "execution_count": 88,
      "outputs": []
    },
    {
      "cell_type": "code",
      "source": [
        "import numpy as np"
      ],
      "metadata": {
        "id": "nA-P8eleTzjZ"
      },
      "execution_count": 89,
      "outputs": []
    },
    {
      "cell_type": "code",
      "source": [
        "import matplotlib.pyplot as plt"
      ],
      "metadata": {
        "id": "FOcJOoDOT4CU"
      },
      "execution_count": 90,
      "outputs": []
    },
    {
      "cell_type": "markdown",
      "source": [
        "# Import Data"
      ],
      "metadata": {
        "id": "hj-9FEcqUEIe"
      }
    },
    {
      "cell_type": "code",
      "source": [
        "from sklearn.datasets import load_digits"
      ],
      "metadata": {
        "id": "4GnoQwvQUIF6"
      },
      "execution_count": 91,
      "outputs": []
    },
    {
      "cell_type": "code",
      "source": [
        "df = load_digits()"
      ],
      "metadata": {
        "id": "Yy16XA_VUVAS"
      },
      "execution_count": 92,
      "outputs": []
    },
    {
      "cell_type": "code",
      "source": [
        "_, axees = plt.subplots(nrows=1, ncols=4, figsize=(10, 3))\n",
        "for ax, image, label in zip(axees, df.images, df.target):\n",
        "    ax.set_axis_off()\n",
        "    ax.imshow(image, cmap=plt.cm.gray_r, interpolation=\"nearest\")\n",
        "    ax.set_title(\"Training: %i\" % label)"
      ],
      "metadata": {
        "id": "Tva9QWrjU-Yz",
        "colab": {
          "base_uri": "https://localhost:8080/",
          "height": 227
        },
        "outputId": "411b4633-70ff-4aa0-8b67-78b1657c5d8d"
      },
      "execution_count": 93,
      "outputs": [
        {
          "output_type": "display_data",
          "data": {
            "text/plain": [
              "<Figure size 1000x300 with 4 Axes>"
            ],
            "image/png": "[encoded data removed]"
          },
          "metadata": {}
        }
      ]
    },
    {
      "cell_type": "markdown",
      "source": [
        "# Data Preprocessing"
      ],
      "metadata": {
        "id": "CYgeMRccV__t"
      }
    },
    {
      "cell_type": "markdown",
      "source": [
        "Flatten Image![8.png](data:image/png;base64,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)\n",
        "\n",
        "Flatten Image![8n.png](data:image/png;base64,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)"
      ],
      "metadata": {
        "id": "j2Vufke9WG_T"
      }
    },
    {
      "cell_type": "code",
      "source": [
        "df.images.shape\n",
        "\n",
        "(1797, 8, )"
      ],
      "metadata": {
        "id": "DQHoyZEQabNP",
        "colab": {
          "base_uri": "https://localhost:8080/"
        },
        "outputId": "9079cecf-30eb-4745-b2c9-ded5e82fe07a"
      },
      "execution_count": 94,
      "outputs": [
        {
          "output_type": "execute_result",
          "data": {
            "text/plain": [
              "(1797, 8)"
            ]
          },
          "metadata": {},
          "execution_count": 94
        }
      ]
    },
    {
      "cell_type": "code",
      "source": [
        "df.images[0]\n",
        "\n",
        "np.array([[ 0.,  0.,  5.,  13.,  9.,  1.,  0.,  0.],\n",
        "       [ 0.,  0., 13.,  15., 10., 15.,  5.,  0.],\n",
        "       [ 0.,  3., 15.,   2.,  0., 11.,  8.,  0.],\n",
        "       [ 0.,  4., 12.,   0.,  0.,  8.,  8.,  0.],\n",
        "       [ 0.,  5.,  8.,   0.,  0.,  9.,  8.,  0.],\n",
        "       [ 0.,  4., 11.,   0.,  1., 12.,  7.,  0.],\n",
        "       [ 0.,  2., 14.,   5., 10., 12.,  0.,  0.],\n",
        "       [ 0.,  0., 6.,   13., 10.,  0.,  0.,  0.]])"
      ],
      "metadata": {
        "id": "7WZOyPuoajhH",
        "colab": {
          "base_uri": "https://localhost:8080/"
        },
        "outputId": "8894f615-bc85-4478-a65b-a4d84932fd26"
      },
      "execution_count": 95,
      "outputs": [
        {
          "output_type": "execute_result",
          "data": {
            "text/plain": [
              "array([[ 0.,  0.,  5., 13.,  9.,  1.,  0.,  0.],\n",
              "       [ 0.,  0., 13., 15., 10., 15.,  5.,  0.],\n",
              "       [ 0.,  3., 15.,  2.,  0., 11.,  8.,  0.],\n",
              "       [ 0.,  4., 12.,  0.,  0.,  8.,  8.,  0.],\n",
              "       [ 0.,  5.,  8.,  0.,  0.,  9.,  8.,  0.],\n",
              "       [ 0.,  4., 11.,  0.,  1., 12.,  7.,  0.],\n",
              "       [ 0.,  2., 14.,  5., 10., 12.,  0.,  0.],\n",
              "       [ 0.,  0.,  6., 13., 10.,  0.,  0.,  0.]])"
            ]
          },
          "metadata": {},
          "execution_count": 95
        }
      ]
    },
    {
      "cell_type": "code",
      "source": [
        "df.images[0].shape\n",
        "\n",
        "(8, 8)"
      ],
      "metadata": {
        "id": "63xvN6B3wwqv",
        "colab": {
          "base_uri": "https://localhost:8080/"
        },
        "outputId": "cba93521-2b95-4e82-f7c1-60241e549df8"
      },
      "execution_count": 96,
      "outputs": [
        {
          "output_type": "execute_result",
          "data": {
            "text/plain": [
              "(8, 8)"
            ]
          },
          "metadata": {},
          "execution_count": 96
        }
      ]
    },
    {
      "cell_type": "code",
      "source": [
        "len(df.images)\n",
        "\n",
        "1797"
      ],
      "metadata": {
        "id": "_huKHi6Bw5a0",
        "colab": {
          "base_uri": "https://localhost:8080/"
        },
        "outputId": "b0d3927c-d63b-4292-ca19-e68aa61a0152"
      },
      "execution_count": 97,
      "outputs": [
        {
          "output_type": "execute_result",
          "data": {
            "text/plain": [
              "1797"
            ]
          },
          "metadata": {},
          "execution_count": 97
        }
      ]
    },
    {
      "cell_type": "code",
      "source": [
        "n_samples = len(df.images)\n",
        "data = df.images.reshape((n_samples, -1))"
      ],
      "metadata": {
        "id": "VfW1cBmCxFM3"
      },
      "execution_count": 98,
      "outputs": []
    },
    {
      "cell_type": "code",
      "source": [
        "data[0]\n",
        "\n",
        "np.array([ 0.,  0.,  5., 13.,  9.,  1.,  0.,  0.,  0.,  0., 13., 15., 10.,\n",
        "       15.,  5.,  0.,  0.,  3., 15.,  2.,  0., 11.,  8.,  0.,  0.,  4.,\n",
        "       12.,  0.,  0.,  8.,  8.,  0.,  0.,  5.,  8.,  0.,  0.,  9.,  8.,\n",
        "        0.,  0.,  4., 11.,  0.,  1., 12.,  7.,  0.,  0.,  2., 14.,  5.,\n",
        "       10., 12.,  0.,  0.,  0.,  0.,  6., 13., 10.,  0.,  0.,  0.])"
      ],
      "metadata": {
        "id": "fnvieCHKxc9T",
        "colab": {
          "base_uri": "https://localhost:8080/"
        },
        "outputId": "ca1cab7e-80df-4577-8b4f-516b40cf5ded"
      },
      "execution_count": 99,
      "outputs": [
        {
          "output_type": "execute_result",
          "data": {
            "text/plain": [
              "array([ 0.,  0.,  5., 13.,  9.,  1.,  0.,  0.,  0.,  0., 13., 15., 10.,\n",
              "       15.,  5.,  0.,  0.,  3., 15.,  2.,  0., 11.,  8.,  0.,  0.,  4.,\n",
              "       12.,  0.,  0.,  8.,  8.,  0.,  0.,  5.,  8.,  0.,  0.,  9.,  8.,\n",
              "        0.,  0.,  4., 11.,  0.,  1., 12.,  7.,  0.,  0.,  2., 14.,  5.,\n",
              "       10., 12.,  0.,  0.,  0.,  0.,  6., 13., 10.,  0.,  0.,  0.])"
            ]
          },
          "metadata": {},
          "execution_count": 99
        }
      ]
    },
    {
      "cell_type": "code",
      "source": [
        "data[0].shape\n",
        "\n",
        "(64, )"
      ],
      "metadata": {
        "id": "sFNIOPnjyzDx",
        "colab": {
          "base_uri": "https://localhost:8080/"
        },
        "outputId": "874974bc-dd7c-4f9d-b7e8-0bcb581665b5"
      },
      "execution_count": 100,
      "outputs": [
        {
          "output_type": "execute_result",
          "data": {
            "text/plain": [
              "(64,)"
            ]
          },
          "metadata": {},
          "execution_count": 100
        }
      ]
    },
    {
      "cell_type": "code",
      "source": [
        "data.shape\n",
        "\n",
        "(1797, 64)"
      ],
      "metadata": {
        "id": "MNswYMxHy63d",
        "colab": {
          "base_uri": "https://localhost:8080/"
        },
        "outputId": "6ded1888-2464-48d0-9dcf-2b18e4d66e00"
      },
      "execution_count": 101,
      "outputs": [
        {
          "output_type": "execute_result",
          "data": {
            "text/plain": [
              "(1797, 64)"
            ]
          },
          "metadata": {},
          "execution_count": 101
        }
      ]
    },
    {
      "cell_type": "markdown",
      "source": [
        "# Scaling Image Data"
      ],
      "metadata": {
        "id": "pBYM7rwrChvU"
      }
    },
    {
      "cell_type": "code",
      "source": [
        "data.min()\n",
        "\n",
        "0.0"
      ],
      "metadata": {
        "id": "bqn85PiGCnh8",
        "colab": {
          "base_uri": "https://localhost:8080/"
        },
        "outputId": "b3aa280e-74d1-474a-a8b2-db9bce39ab2a"
      },
      "execution_count": 102,
      "outputs": [
        {
          "output_type": "execute_result",
          "data": {
            "text/plain": [
              "0.0"
            ]
          },
          "metadata": {},
          "execution_count": 102
        }
      ]
    },
    {
      "cell_type": "code",
      "source": [
        "data.max()\n",
        "\n",
        "16.0"
      ],
      "metadata": {
        "id": "IQWT-asHCxyy",
        "colab": {
          "base_uri": "https://localhost:8080/"
        },
        "outputId": "91a2a9fa-28b2-433f-d20a-7098fc0919f2"
      },
      "execution_count": 103,
      "outputs": [
        {
          "output_type": "execute_result",
          "data": {
            "text/plain": [
              "16.0"
            ]
          },
          "metadata": {},
          "execution_count": 103
        }
      ]
    },
    {
      "cell_type": "code",
      "source": [
        "data = data/16"
      ],
      "metadata": {
        "id": "w5HNoy7gC2l0"
      },
      "execution_count": 104,
      "outputs": []
    },
    {
      "cell_type": "code",
      "source": [
        "data.min()\n",
        "\n",
        "0.0"
      ],
      "metadata": {
        "id": "_IMMoNRGC-Mi",
        "colab": {
          "base_uri": "https://localhost:8080/"
        },
        "outputId": "1fc6bb2c-76ff-4161-f809-f4858566086d"
      },
      "execution_count": 105,
      "outputs": [
        {
          "output_type": "execute_result",
          "data": {
            "text/plain": [
              "0.0"
            ]
          },
          "metadata": {},
          "execution_count": 105
        }
      ]
    },
    {
      "cell_type": "code",
      "source": [
        "data.max()\n",
        "\n",
        "1.0"
      ],
      "metadata": {
        "id": "NEm2jWNUDGYh",
        "colab": {
          "base_uri": "https://localhost:8080/"
        },
        "outputId": "f03b7f31-de55-4fcf-d9da-537e3a0539de"
      },
      "execution_count": 106,
      "outputs": [
        {
          "output_type": "execute_result",
          "data": {
            "text/plain": [
              "1.0"
            ]
          },
          "metadata": {},
          "execution_count": 106
        }
      ]
    },
    {
      "cell_type": "code",
      "source": [
        "data[0]\n",
        "\n",
        "np.array([0.    , 0.    , 0.3125, 0.8125, 0.5625, 0.0625, 0.    , 0.    ,\n",
        "       0.    , 0.    , 0.8125, 0.9375, 0.625 , 0.9375, 0.3125, 0.    ,\n",
        "       0.    , 0.1875, 0.9375, 0.125 , 0.    , 0.6875, 0.5   , 0.    ,\n",
        "       0.    , 0.25  , 0.75  , 0.    , 0.    , 0.5   , 0.5   , 0.    ,\n",
        "       0.    , 0.3125, 0.5   , 0.    , 0.    , 0.5625, 0.5   , 0.    ,\n",
        "       0.    , 0.25  , 0.6875, 0.    , 0.0625, 0.75  , 0.4375, 0.    ,\n",
        "       0.    , 0.125 , 0.875 , 0.3125, 0.625 , 0.75  , 0.    , 0.    ,\n",
        "       0.    , 0.    , 0.375 , 0.8125, 0.625 , 0.    , 0.    , 0.    ,])"
      ],
      "metadata": {
        "id": "PjirFr95DOh0",
        "colab": {
          "base_uri": "https://localhost:8080/"
        },
        "outputId": "7f9c7bc2-b5c4-4666-e12d-630b45fdfde8"
      },
      "execution_count": 107,
      "outputs": [
        {
          "output_type": "execute_result",
          "data": {
            "text/plain": [
              "array([0.    , 0.    , 0.3125, 0.8125, 0.5625, 0.0625, 0.    , 0.    ,\n",
              "       0.    , 0.    , 0.8125, 0.9375, 0.625 , 0.9375, 0.3125, 0.    ,\n",
              "       0.    , 0.1875, 0.9375, 0.125 , 0.    , 0.6875, 0.5   , 0.    ,\n",
              "       0.    , 0.25  , 0.75  , 0.    , 0.    , 0.5   , 0.5   , 0.    ,\n",
              "       0.    , 0.3125, 0.5   , 0.    , 0.    , 0.5625, 0.5   , 0.    ,\n",
              "       0.    , 0.25  , 0.6875, 0.    , 0.0625, 0.75  , 0.4375, 0.    ,\n",
              "       0.    , 0.125 , 0.875 , 0.3125, 0.625 , 0.75  , 0.    , 0.    ,\n",
              "       0.    , 0.    , 0.375 , 0.8125, 0.625 , 0.    , 0.    , 0.    ])"
            ]
          },
          "metadata": {},
          "execution_count": 107
        }
      ]
    },
    {
      "cell_type": "markdown",
      "source": [
        "# Train Test Split Data"
      ],
      "metadata": {
        "id": "zsulMw93JYc-"
      }
    },
    {
      "cell_type": "code",
      "source": [
        "from sklearn.model_selection import train_test_split"
      ],
      "metadata": {
        "id": "AvxWXPOhJfiZ"
      },
      "execution_count": 108,
      "outputs": []
    },
    {
      "cell_type": "code",
      "source": [
        "X_train, X_test, y_train, y_test = train_test_split(data, df.target, test_size=0.3)"
      ],
      "metadata": {
        "id": "EcgOyQ0lJpje"
      },
      "execution_count": 109,
      "outputs": []
    },
    {
      "cell_type": "code",
      "source": [
        "X_train.shape, X_test.shape, y_train.shape, y_test.shape\n",
        "\n",
        "((1257, 64), (540, 64), (1257,), (540,))"
      ],
      "metadata": {
        "id": "_Bn-Z_WqKCfJ",
        "colab": {
          "base_uri": "https://localhost:8080/"
        },
        "outputId": "e971d87e-9549-4430-9b33-a2024d71c0f7"
      },
      "execution_count": 110,
      "outputs": [
        {
          "output_type": "execute_result",
          "data": {
            "text/plain": [
              "((1257, 64), (540, 64), (1257,), (540,))"
            ]
          },
          "metadata": {},
          "execution_count": 110
        }
      ]
    },
    {
      "cell_type": "markdown",
      "source": [
        "# Random Forest Model"
      ],
      "metadata": {
        "id": "XLaIF1uLKip0"
      }
    },
    {
      "cell_type": "code",
      "source": [
        "from sklearn.ensemble import RandomForestClassifier"
      ],
      "metadata": {
        "id": "vZV_pioIKnmR"
      },
      "execution_count": 111,
      "outputs": []
    },
    {
      "cell_type": "code",
      "source": [
        "rf = RandomForestClassifier()"
      ],
      "metadata": {
        "id": "B1pgOWwFKxov"
      },
      "execution_count": 112,
      "outputs": []
    },
    {
      "cell_type": "code",
      "source": [
        "rf.fit(X_train, y_train)\n",
        "\n",
        "RandomForestClassifier()"
      ],
      "metadata": {
        "id": "lDdi67m5K3s0",
        "colab": {
          "base_uri": "https://localhost:8080/",
          "height": 75
        },
        "outputId": "ba96808f-3ba0-4b52-c726-23ae23115f0e"
      },
      "execution_count": 113,
      "outputs": [
        {
          "output_type": "execute_result",
          "data": {
            "text/plain": [
              "RandomForestClassifier()"
            ],
            "text/html": [
              "<style>#sk-container-id-2 {color: black;background-color: white;}#sk-container-id-2 pre{padding: 0;}#sk-container-id-2 div.sk-toggleable {background-color: white;}#sk-container-id-2 label.sk-toggleable__label {cursor: pointer;display: block;width: 100%;margin-bottom: 0;padding: 0.3em;box-sizing: border-box;text-align: center;}#sk-container-id-2 label.sk-toggleable__label-arrow:before {content: \"▸\";float: left;margin-right: 0.25em;color: #696969;}#sk-container-id-2 label.sk-toggleable__label-arrow:hover:before {color: black;}#sk-container-id-2 div.sk-estimator:hover label.sk-toggleable__label-arrow:before {color: black;}#sk-container-id-2 div.sk-toggleable__content {max-height: 0;max-width: 0;overflow: hidden;text-align: left;background-color: #f0f8ff;}#sk-container-id-2 div.sk-toggleable__content pre {margin: 0.2em;color: black;border-radius: 0.25em;background-color: #f0f8ff;}#sk-container-id-2 input.sk-toggleable__control:checked~div.sk-toggleable__content {max-height: 200px;max-width: 100%;overflow: auto;}#sk-container-id-2 input.sk-toggleable__control:checked~label.sk-toggleable__label-arrow:before {content: \"▾\";}#sk-container-id-2 div.sk-estimator input.sk-toggleable__control:checked~label.sk-toggleable__label {background-color: #d4ebff;}#sk-container-id-2 div.sk-label input.sk-toggleable__control:checked~label.sk-toggleable__label {background-color: #d4ebff;}#sk-container-id-2 input.sk-hidden--visually {border: 0;clip: rect(1px 1px 1px 1px);clip: rect(1px, 1px, 1px, 1px);height: 1px;margin: -1px;overflow: hidden;padding: 0;position: absolute;width: 1px;}#sk-container-id-2 div.sk-estimator {font-family: monospace;background-color: #f0f8ff;border: 1px dotted black;border-radius: 0.25em;box-sizing: border-box;margin-bottom: 0.5em;}#sk-container-id-2 div.sk-estimator:hover {background-color: #d4ebff;}#sk-container-id-2 div.sk-parallel-item::after {content: \"\";width: 100%;border-bottom: 1px solid gray;flex-grow: 1;}#sk-container-id-2 div.sk-label:hover label.sk-toggleable__label {background-color: #d4ebff;}#sk-container-id-2 div.sk-serial::before {content: \"\";position: absolute;border-left: 1px solid gray;box-sizing: border-box;top: 0;bottom: 0;left: 50%;z-index: 0;}#sk-container-id-2 div.sk-serial {display: flex;flex-direction: column;align-items: center;background-color: white;padding-right: 0.2em;padding-left: 0.2em;position: relative;}#sk-container-id-2 div.sk-item {position: relative;z-index: 1;}#sk-container-id-2 div.sk-parallel {display: flex;align-items: stretch;justify-content: center;background-color: white;position: relative;}#sk-container-id-2 div.sk-item::before, #sk-container-id-2 div.sk-parallel-item::before {content: \"\";position: absolute;border-left: 1px solid gray;box-sizing: border-box;top: 0;bottom: 0;left: 50%;z-index: -1;}#sk-container-id-2 div.sk-parallel-item {display: flex;flex-direction: column;z-index: 1;position: relative;background-color: white;}#sk-container-id-2 div.sk-parallel-item:first-child::after {align-self: flex-end;width: 50%;}#sk-container-id-2 div.sk-parallel-item:last-child::after {align-self: flex-start;width: 50%;}#sk-container-id-2 div.sk-parallel-item:only-child::after {width: 0;}#sk-container-id-2 div.sk-dashed-wrapped {border: 1px dashed gray;margin: 0 0.4em 0.5em 0.4em;box-sizing: border-box;padding-bottom: 0.4em;background-color: white;}#sk-container-id-2 div.sk-label label {font-family: monospace;font-weight: bold;display: inline-block;line-height: 1.2em;}#sk-container-id-2 div.sk-label-container {text-align: center;}#sk-container-id-2 div.sk-container {/* jupyter's `normalize.less` sets `[hidden] { display: none; }` but bootstrap.min.css set `[hidden] { display: none !important; }` so we also need the `!important` here to be able to override the default hidden behavior on the sphinx rendered scikit-learn.org. See: https://github.com/scikit-learn/scikit-learn/issues/21755 */display: inline-block !important;position: relative;}#sk-container-id-2 div.sk-text-repr-fallback {display: none;}</style><div id=\"sk-container-id-2\" class=\"sk-top-container\"><div class=\"sk-text-repr-fallback\"><pre>RandomForestClassifier()</pre><b>In a Jupyter environment, please rerun this cell to show the HTML representation or trust the notebook. <br />On GitHub, the HTML representation is unable to render, please try loading this page with nbviewer.org.</b></div><div class=\"sk-container\" hidden><div class=\"sk-item\"><div class=\"sk-estimator sk-toggleable\"><input class=\"sk-toggleable__control sk-hidden--visually\" id=\"sk-estimator-id-2\" type=\"checkbox\" checked><label for=\"sk-estimator-id-2\" class=\"sk-toggleable__label sk-toggleable__label-arrow\">RandomForestClassifier</label><div class=\"sk-toggleable__content\"><pre>RandomForestClassifier()</pre></div></div></div></div></div>"
            ]
          },
          "metadata": {},
          "execution_count": 113
        }
      ]
    },
    {
      "cell_type": "markdown",
      "source": [
        "# Predict Test Data"
      ],
      "metadata": {
        "id": "4zh60xNFLJw4"
      }
    },
    {
      "cell_type": "code",
      "source": [
        "y_pred = rf.predict(X_test)"
      ],
      "metadata": {
        "id": "wscpE45RLTVF"
      },
      "execution_count": 114,
      "outputs": []
    },
    {
      "cell_type": "code",
      "source": [
        "y_pred\n",
        "\n",
        "np.array([6, 5, 2, 6, 8, 8, 2, 7, 5, 1, 1, 4, 3, 7, 2, 0, 0, 7, 0, 2, 5, 3,\n",
        "       2, 5, 2, 7, 5, 9, 1, 8, 3, 3, 1, 1, 8, 4, 0, 4, 2, 1, 3, 1, 6, 9,\n",
        "       8, 8, 6, 7, 5, 4, 3, 8, 5, 0, 6, 0, 7, 1, 1, 1, 6, 1, 9, 3, 8, 8,\n",
        "       8, 1, 5, 0, 6, 2, 5, 9, 3, 5, 6, 0, 3, 5, 4, 0, 4, 1, 9, 1, 1, 3,\n",
        "       0, 3, 7, 1, 6, 3, 9, 7, 2, 9, 6, 2, 7, 0, 6, 9, 9, 3, 5, 4, 4, 6,\n",
        "       3, 6, 2, 3, 9, 6, 3, 7, 2, 7, 3, 1, 3, 6, 1, 9, 0, 5, 2, 9, 6, 1,\n",
        "       3, 4, 1, 6, 7, 2, 8, 8, 2, 7, 7, 0, 7, 1, 2, 5, 0, 0, 3, 1, 5, 8,\n",
        "       0, 3, 0, 1, 5, 5, 4, 8, 0, 7, 9, 5, 5, 5, 6, 4, 3, 6, 9, 3, 6, 0,\n",
        "       2, 5, 9, 5, 7, 6, 4, 2, 2, 5, 7, 7, 2, 0, 8, 1, 0, 7, 6, 7, 2, 7,\n",
        "       6, 6, 1, 4, 4, 7, 5, 0, 2, 9, 8, 4, 0, 0, 8, 1, 9, 4, 2, 4, 6, 1,\n",
        "       0, 4, 5, 1, 6, 3, 1, 4, 8, 3, 7, 3, 3, 8, 9, 1, 2, 5, 5, 0, 7, 1,\n",
        "       2, 7, 3, 0, 7, 9, 4, 7, 3, 5, 8, 1, 3, 3, 3, 6, 8, 3, 3, 6, 1, 1,\n",
        "       3, 7, 8, 6, 9, 9, 6, 7, 0, 3, 9, 8, 0, 7, 9, 2, 7, 1, 5, 3, 2, 2,\n",
        "       1, 4, 2, 5, 2, 0, 9, 5, 1, 2, 1, 8, 8, 3, 0, 8, 4, 2, 9, 8, 3, 2,\n",
        "       6, 7, 1, 1, 4, 8, 9, 5, 1, 5, 6, 4, 0, 7, 3, 7, 4, 7, 7, 9, 5, 0,\n",
        "       5, 0, 9, 2, 0, 1, 1, 9, 3, 7, 4, 7, 0, 0, 3, 9, 6, 2, 8, 8, 9, 0,\n",
        "       6, 7, 1, 2, 6, 3, 9, 8, 1, 6, 9, 3, 5, 1, 6, 6, 7, 9, 1, 0, 1, 2,\n",
        "       5, 2, 1, 4, 2, 8, 9, 5, 1, 7, 3, 2, 0, 9, 8, 3, 6, 4, 2, 2, 9, 1,\n",
        "       2, 8, 4, 0, 4, 2, 8, 3, 8, 0, 6, 2, 0, 1, 5, 7, 6, 5, 5, 8, 6, 5,\n",
        "       5, 6, 2, 5, 8, 8, 4, 7, 4, 0, 7, 0, 0, 2, 0, 8, 4, 8, 1, 6, 4, 2,\n",
        "       7, 0, 4, 7, 1, 1, 1, 2, 6, 2, 8, 6, 1, 9, 1, 2, 0, 3, 6, 0, 5, 5,\n",
        "       9, 7, 0, 0, 6, 3, 4, 5, 3, 9, 9, 8, 1, 2, 4, 4, 5, 4, 2, 5, 0, 6,\n",
        "       9, 3, 1, 5, 0, 5, 7, 2, 2, 6, 5, 2, 4, 9, 7, 3, 8, 5, 1, 2, 0, 5,\n",
        "       2, 9, 2, 3, 4, 8, 5, 7, 7, 4, 0, 0, 1, 9, 2, 1, 6, 7, 3, 8, 7, 5,\n",
        "       2, 0, 5, 0, 0, 4, 8, 5, 5, 7, 9, 3])"
      ],
      "metadata": {
        "id": "NULwp3ewLe0L",
        "colab": {
          "base_uri": "https://localhost:8080/"
        },
        "outputId": "96c9d020-e556-4a09-e546-802d5a829f62"
      },
      "execution_count": 115,
      "outputs": [
        {
          "output_type": "execute_result",
          "data": {
            "text/plain": [
              "array([6, 5, 2, 6, 8, 8, 2, 7, 5, 1, 1, 4, 3, 7, 2, 0, 0, 7, 0, 2, 5, 3,\n",
              "       2, 5, 2, 7, 5, 9, 1, 8, 3, 3, 1, 1, 8, 4, 0, 4, 2, 1, 3, 1, 6, 9,\n",
              "       8, 8, 6, 7, 5, 4, 3, 8, 5, 0, 6, 0, 7, 1, 1, 1, 6, 1, 9, 3, 8, 8,\n",
              "       8, 1, 5, 0, 6, 2, 5, 9, 3, 5, 6, 0, 3, 5, 4, 0, 4, 1, 9, 1, 1, 3,\n",
              "       0, 3, 7, 1, 6, 3, 9, 7, 2, 9, 6, 2, 7, 0, 6, 9, 9, 3, 5, 4, 4, 6,\n",
              "       3, 6, 2, 3, 9, 6, 3, 7, 2, 7, 3, 1, 3, 6, 1, 9, 0, 5, 2, 9, 6, 1,\n",
              "       3, 4, 1, 6, 7, 2, 8, 8, 2, 7, 7, 0, 7, 1, 2, 5, 0, 0, 3, 1, 5, 8,\n",
              "       0, 3, 0, 1, 5, 5, 4, 8, 0, 7, 9, 5, 5, 5, 6, 4, 3, 6, 9, 3, 6, 0,\n",
              "       2, 5, 9, 5, 7, 6, 4, 2, 2, 5, 7, 7, 2, 0, 8, 1, 0, 7, 6, 7, 2, 7,\n",
              "       6, 6, 1, 4, 4, 7, 5, 0, 2, 9, 8, 4, 0, 0, 8, 1, 9, 4, 2, 4, 6, 1,\n",
              "       0, 4, 5, 1, 6, 3, 1, 4, 8, 3, 7, 3, 3, 8, 9, 1, 2, 5, 5, 0, 7, 1,\n",
              "       2, 7, 3, 0, 7, 9, 4, 7, 3, 5, 8, 1, 3, 3, 3, 6, 8, 3, 3, 6, 1, 1,\n",
              "       3, 7, 8, 6, 9, 9, 6, 7, 0, 3, 9, 8, 0, 7, 9, 2, 7, 1, 5, 3, 2, 2,\n",
              "       1, 4, 2, 5, 2, 0, 9, 5, 1, 2, 1, 8, 8, 3, 0, 8, 4, 2, 9, 8, 3, 2,\n",
              "       6, 7, 1, 1, 4, 8, 9, 5, 1, 5, 6, 4, 0, 7, 3, 7, 4, 7, 7, 9, 5, 0,\n",
              "       5, 0, 9, 2, 0, 1, 1, 9, 3, 7, 4, 7, 0, 0, 3, 9, 6, 2, 8, 8, 9, 0,\n",
              "       6, 7, 1, 2, 6, 3, 9, 8, 1, 6, 9, 3, 5, 1, 6, 6, 7, 9, 1, 0, 1, 2,\n",
              "       5, 2, 1, 4, 2, 8, 9, 5, 1, 7, 3, 2, 0, 9, 8, 3, 6, 4, 2, 2, 9, 1,\n",
              "       2, 8, 4, 0, 4, 2, 8, 3, 8, 0, 6, 2, 0, 1, 5, 7, 6, 5, 5, 8, 6, 5,\n",
              "       5, 6, 2, 5, 8, 8, 4, 7, 4, 0, 7, 0, 0, 2, 0, 8, 4, 8, 1, 6, 4, 2,\n",
              "       7, 0, 4, 7, 1, 1, 1, 2, 6, 2, 8, 6, 1, 9, 1, 2, 0, 3, 6, 0, 5, 5,\n",
              "       9, 7, 0, 0, 6, 3, 4, 5, 3, 9, 9, 8, 1, 2, 4, 4, 5, 4, 2, 5, 0, 6,\n",
              "       9, 3, 1, 5, 0, 5, 7, 2, 2, 6, 5, 2, 4, 9, 7, 3, 8, 5, 1, 2, 0, 5,\n",
              "       2, 9, 2, 3, 4, 8, 5, 7, 7, 4, 0, 0, 1, 9, 2, 1, 6, 7, 3, 8, 7, 5,\n",
              "       2, 0, 5, 0, 0, 4, 8, 5, 5, 7, 9, 3])"
            ]
          },
          "metadata": {},
          "execution_count": 115
        }
      ]
    },
    {
      "cell_type": "markdown",
      "source": [
        "# Model Accuracy"
      ],
      "metadata": {
        "id": "n6M-QWPOUCbZ"
      }
    },
    {
      "cell_type": "code",
      "source": [
        "from sklearn.metrics import confusion_matrix, classification_report"
      ],
      "metadata": {
        "id": "V5v6X4P1UIvB"
      },
      "execution_count": 116,
      "outputs": []
    },
    {
      "cell_type": "code",
      "source": [
        "confusion_matrix(y_test, y_pred)\n",
        "\n",
        "np.array([[60,  0,  0,  0,  1,  0,  0,  0,  0,  0],\n",
        "       [ 0, 60,  0,  1,  0,  0,  0,  0,  0,  0],\n",
        "       [ 0,  0, 61,  0,  0,  0,  0,  0,  0,  1],\n",
        "       [ 0,  0,  0, 54,  0,  0,  0,  1,  0,  0],\n",
        "       [ 0,  0,  0,  0, 40,  0,  0,  1,  0,  0],\n",
        "       [ 0,  0,  0,  0,  0, 58,  1,  0,  0,  0],\n",
        "       [ 0,  1,  0,  0,  1,  0, 50,  1,  1,  1],\n",
        "       [ 0,  0,  0,  0,  0,  0,  0, 52,  0,  0],\n",
        "       [ 0,  2,  0,  0,  1,  1,  0,  0, 46,  0],\n",
        "       [ 0,  0,  0,  0,  0,  0,  0,  1,  0, 45]])"
      ],
      "metadata": {
        "colab": {
          "base_uri": "https://localhost:8080/"
        },
        "id": "ZCJrEl4bx05b",
        "outputId": "d7e4b8b7-ec6e-4c9f-a7c8-1ef3aa7d5cb2"
      },
      "execution_count": 117,
      "outputs": [
        {
          "output_type": "execute_result",
          "data": {
            "text/plain": [
              "array([[60,  0,  0,  0,  1,  0,  0,  0,  0,  0],\n",
              "       [ 0, 60,  0,  1,  0,  0,  0,  0,  0,  0],\n",
              "       [ 0,  0, 61,  0,  0,  0,  0,  0,  0,  1],\n",
              "       [ 0,  0,  0, 54,  0,  0,  0,  1,  0,  0],\n",
              "       [ 0,  0,  0,  0, 40,  0,  0,  1,  0,  0],\n",
              "       [ 0,  0,  0,  0,  0, 58,  1,  0,  0,  0],\n",
              "       [ 0,  1,  0,  0,  1,  0, 50,  1,  1,  1],\n",
              "       [ 0,  0,  0,  0,  0,  0,  0, 52,  0,  0],\n",
              "       [ 0,  2,  0,  0,  1,  1,  0,  0, 46,  0],\n",
              "       [ 0,  0,  0,  0,  0,  0,  0,  1,  0, 45]])"
            ]
          },
          "metadata": {},
          "execution_count": 117
        }
      ]
    },
    {
      "cell_type": "markdown",
      "source": [
        "print(classification_report(y_test, y_pred))\n",
        "\n",
        "             precision    recall  f1-score   support\n",
        "\n",
        "           0       1.00      0.98      0.99        61\n",
        "           1       0.95      0.98      0.97        61\n",
        "           2       1.00      0.98      0.99        62\n",
        "           3       0.98      0.98      0.98        55\n",
        "           4       0.93      0.98      0.95        41\n",
        "           5       0.98      0.97      0.97        60\n",
        "           6       0.98      0.96      0.97        52\n",
        "           7       0.95      1.00      0.97        52\n",
        "           8       0.98      0.92      0.95        50\n",
        "           9       0.98      0.98      0.98        46\n",
        "\n",
        "    accuracy                           0.97       540\n",
        "    macro avg       0.97      0.97      0.97       540\n",
        "    weighted avg     0.97      0.97      0.97       540"
      ],
      "metadata": {
        "id": "otdyZXLtz_BS"
      }
    }
  ]
}